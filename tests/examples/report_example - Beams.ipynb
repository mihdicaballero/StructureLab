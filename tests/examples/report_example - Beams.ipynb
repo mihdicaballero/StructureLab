{
 "cells": [
  {
   "cell_type": "code",
   "execution_count": 2,
   "id": "03b0a911",
   "metadata": {},
   "outputs": [],
   "source": [
    "import forallpeople as si\n",
    "si.environment('Structural',top_level=True)\n",
    "#Useful extra units\n",
    "cm = 1e-2*m #type: ignore\n",
    "from IPython.display import Markdown, display\n",
    "import handcalcs.render"
   ]
  },
  {
   "cell_type": "code",
   "execution_count": 28,
   "id": "e9f0451e",
   "metadata": {},
   "outputs": [
    {
     "data": {
      "text/markdown": [
       "Viga 101, $b$=200 mm, $h$=500 mm, $r_\\text{geom}$=3 cm, H-25, B500-S"
      ],
      "text/plain": [
       "<IPython.core.display.Markdown object>"
      ]
     },
     "metadata": {},
     "output_type": "display_data"
    },
    {
     "data": {
      "text/markdown": [
       "Demanda $M_u$=50 kN·m, armadura 3Ø12, $A_s$=3.39 cm²>$A_{s.min} \\color{green}{\\, ✓}$"
      ],
      "text/plain": [
       "<IPython.core.display.Markdown object>"
      ]
     },
     "metadata": {},
     "output_type": "display_data"
    },
    {
     "data": {
      "text/markdown": [
       "Capacidad $\\phi M_n$=55 kN·m, $\\color{green}{\\text{FU}=0.91} \\, ✓$"
      ],
      "text/plain": [
       "<IPython.core.display.Markdown object>"
      ]
     },
     "metadata": {},
     "output_type": "display_data"
    },
    {
     "data": {
      "text/markdown": [
       "Demanda $V_u$=40 kN, armadura 1eØ6/20, $A_v$=2.83 cm²/m>$A_{v.min} \\color{green}{\\, ✓}$, capacidad $\\phi V_n$=80 kN, $\\color{green}{\\text{FU}=0.5} \\, ✓$"
      ],
      "text/plain": [
       "<IPython.core.display.Markdown object>"
      ]
     },
     "metadata": {},
     "output_type": "display_data"
    },
    {
     "data": {
      "text/markdown": [
       "Capacidad $\\phi V_n$=80 kN, $\\color{green}{\\text{FU}=0.5} \\, ✓$"
      ],
      "text/plain": [
       "<IPython.core.display.Markdown object>"
      ]
     },
     "metadata": {},
     "output_type": "display_data"
    }
   ],
   "source": [
    "b=20*cm\n",
    "h=50*cm\n",
    "M_u=50*kN*m # type: ignore\n",
    "ØM_n=55*kN*m # type: ignore\n",
    "FU_b=M_u/ØM_n\n",
    "rebar_b=\"3Ø12\"\n",
    "A_s=1.13*cm**2*3\n",
    "display(Markdown(f\"Viga 101, $b$={round(b,0)}, $h$={round(h,0)}, $r_\\\\text{{geom}}$=3 cm, H-25, B500-S\"))\n",
    "display(Markdown(f\"Demanda $M_u$={round(M_u,0)}, armadura {rebar_b}, $A_s$={round(A_s.value*10000,2)} cm²>$A_{{s.min}} \\\\color{{green}}{{\\\\, ✓}}$\"))\n",
    "display(Markdown(f\"Capacidad $\\phi M_n$={round(ØM_n,0)}, $\\\\color{{green}}{{\\\\text{{FU}}={round(FU_b,2)}}} \\\\, ✓$\"))\n",
    "V_u=40*kN # type: ignore\n",
    "rebar_v=\"1eØ6/20\"\n",
    "A_v=2.83*cm**2/m # type: ignore\n",
    "ØV_n=80*kN # type: ignore\n",
    "FU_v=V_u/ØV_n\n",
    "display(Markdown(f\"Demanda $V_u$={round(V_u,0)}, armadura {rebar_v}, $A_v$={round(A_v.value*10000,2)} cm²/m>$A_{{v.min}} \\\\color{{green}}{{\\\\, ✓}}$, capacidad $\\phi V_n$={round(ØV_n,0)}, $\\\\color{{green}}{{\\\\text{{FU}}={round(FU_v,2)}}} \\\\, ✓$\"))\n",
    "display(Markdown(f\"Capacidad $\\phi V_n$={round(ØV_n,0)}, $\\\\color{{green}}{{\\\\text{{FU}}={round(FU_v,2)}}} \\\\, ✓$\"))"
   ]
  },
  {
   "cell_type": "code",
   "execution_count": 46,
   "id": "7ad81445",
   "metadata": {},
   "outputs": [
    {
     "data": {
      "text/markdown": [
       "$M_u$=40 kN·m, armadura 3Ø12, $A_s$=3.39 cm²>$A_{s.min}$, $\\phi M_n$=55 kN·m → $\\color{#439b00}{\\text{FU}=0.73}$"
      ],
      "text/plain": [
       "<IPython.core.display.Markdown object>"
      ]
     },
     "metadata": {},
     "output_type": "display_data"
    },
    {
     "data": {
      "text/markdown": [
       "$M_u$=54 kN·m, armadura 3Ø12, $A_s$=3.39 cm²>$A_{s.min}$, $\\phi M_n$=55 kN·m → $\\color{#efc200}{\\text{FU}=0.98}$"
      ],
      "text/plain": [
       "<IPython.core.display.Markdown object>"
      ]
     },
     "metadata": {},
     "output_type": "display_data"
    },
    {
     "data": {
      "text/markdown": [
       "$M_u$=70 kN·m, armadura 3Ø12, $A_s$=3.39 cm²>$A_{s.min}$, $\\phi M_n$=55 kN·m → $\\color{#d43e36}{\\text{FU}=1.27}$"
      ],
      "text/plain": [
       "<IPython.core.display.Markdown object>"
      ]
     },
     "metadata": {},
     "output_type": "display_data"
    },
    {
     "data": {
      "text/markdown": [
       "$\\color{#439b00}{\\text{FU}=0.85}$"
      ],
      "text/plain": [
       "<IPython.core.display.Markdown object>"
      ]
     },
     "metadata": {},
     "output_type": "display_data"
    },
    {
     "data": {
      "text/markdown": [
       "$\\color{#439b00}{\\, \\checkmark}$"
      ],
      "text/plain": [
       "<IPython.core.display.Markdown object>"
      ]
     },
     "metadata": {},
     "output_type": "display_data"
    },
    {
     "data": {
      "text/markdown": [
       "$\\color{#d43e36}{\\, \\times}$"
      ],
      "text/plain": [
       "<IPython.core.display.Markdown object>"
      ]
     },
     "metadata": {},
     "output_type": "display_data"
    }
   ],
   "source": [
    "import math\n",
    "class Formatter:\n",
    "    def __init__(self):\n",
    "        # Define colors in the constructor\n",
    "        self.green = '#439b00'\n",
    "        self.red = '#d43e36'\n",
    "        self.yellow = '#efc200'\n",
    "    \n",
    "    def FU(self, FU):\n",
    "        # Determine color based on FU value\n",
    "        if FU < 0.95:\n",
    "            color = self.green\n",
    "        elif 0.95 <= FU <= 1:\n",
    "            color = self.yellow\n",
    "        else:\n",
    "            color = self.red\n",
    "        \n",
    "        return f\"$\\\\color{{{color}}}{{\\\\text{{FU}}={round(FU,2)}}}$\"\n",
    "    \n",
    "    def is_lower(self, value1, value2):\n",
    "        # Compare two values and return the appropriate formatted output\n",
    "        if value1 < value2:\n",
    "            return r\"$\\color{\" + self.green + r\"}{\\, \\checkmark}$\"  # Green checkmark\n",
    "        else:\n",
    "            return r\"$\\color{\" + self.red + r\"}{\\, \\times}$\"  # Red cross\n",
    "    \n",
    "    def is_greater(self, value1, value2):\n",
    "        # Compare two values and return the appropriate formatted output\n",
    "        if value1 > value2:\n",
    "            return r\"$\\color{\" + self.green + r\"}{\\, \\checkmark}$\"  # Green checkmark\n",
    "        else:\n",
    "            return r\"$\\color{\" + self.red + r\"}{\\, \\times}$\"  # Red cross\n",
    "\n",
    "class BeamDesign:\n",
    "    def __init__(self, b, h, M_u):\n",
    "        self.b = b\n",
    "        self.h = h\n",
    "        self.M_u = M_u\n",
    "    \n",
    "    A_s = 1.13*cm**2*3\n",
    "    rebar_b = \"3Ø12\"  # Replace with actual rebar type if needed\n",
    "    ØM_n = 55*kN*m  # type: ignore\n",
    "    @property\n",
    "    def flexure_results(self):\n",
    "        FU_b = self.M_u/ØM_n  # Example Utilization Ratio (FU)\n",
    "        # Create FUFormatter instance and format FU value\n",
    "        formatter = Formatter()\n",
    "        formatted_FU = formatter.FU(FU_b)\n",
    "        # Print results\n",
    "        display(Markdown(f\"$M_u$={round(self.M_u,0)}, armadura {rebar_b}, $A_s$={round(A_s.value*10000,2)} cm²>$A_{{s.min}}$, $\\\\phi M_n$={round(ØM_n,0)} → {formatted_FU}\"))\n",
    "\n",
    "# Example usage\n",
    "b=20*cm\n",
    "h=50*cm\n",
    "M_u=40*kN*m # type: ignore\n",
    "beam = BeamDesign(b, h, M_u)\n",
    "beam.flexure_results\n",
    "M_u=54*kN*m # type: ignore\n",
    "beam = BeamDesign(b, h, M_u)\n",
    "beam.flexure_results\n",
    "M_u=70*kN*m # type: ignore\n",
    "beam = BeamDesign(b, h, M_u)\n",
    "beam.flexure_results\n",
    "A_s_min=2.5*cm**2/m # type: ignore\n",
    "formatter = Formatter()\n",
    "display(Markdown(formatter.FU(0.85)))\n",
    "display(Markdown(formatter.is_lower(0.85,1)))\n",
    "display(Markdown(formatter.is_greater(0.85,1)))\n"
   ]
  },
  {
   "cell_type": "code",
   "execution_count": null,
   "id": "e6209c76",
   "metadata": {},
   "outputs": [
    {
     "name": "stdout",
     "output_type": "stream",
     "text": [
      "Nombre de la sección: V-40x50\n"
     ]
    }
   ],
   "source": [
    "import sys\n",
    "import os\n",
    "# Añadir el directorio raíz al PYTHONPATH\n",
    "sys.path.append(os.path.abspath(os.path.join(os.getcwd(), '../../')))\n",
    "\n",
    "from structurelab.settings import Settings\n",
    "from structurelab.material import create_concrete, SteelBar\n",
    "from structurelab.section import Beam\n",
    "\n",
    "from pylatex import Command, Document, Math, Matrix, Section, Subsection, VectorName, NoEscape, Figure, LongTable\n",
    "from pylatex.utils import NoEscape\n",
    "import matplotlib\n",
    "matplotlib.use(\"Agg\")  # Not to use X server. For TravisCI.\n",
    "import matplotlib.pyplot as plt  # noq\n",
    "\n",
    "class MyDocument(Document):\n",
    "    def __init__(self, documentclass='article', document_options=['a4paper','spanish','10pt'], geometry_options={\"left\": \"20mm\",\"right\": \"20mm\"}):\n",
    "        # Pasar las opciones al constructor de la clase base Document\n",
    "        super().__init__(documentclass=documentclass, document_options=document_options, geometry_options=geometry_options)\n",
    "        self.preamble.append(Command(\"usepackage\",\"mathtools\"))\n",
    "        self.preamble.append(Command(\"title\", \"Viga rectangular a flexión - ACI 318-19\"))\n",
    "        self.preamble.append(Command(\"author\", \"StructureLab\"))\n",
    "        self.preamble.append(Command(\"date\", NoEscape(r\"\\today\")))\n",
    "        self.append(NoEscape(r\"\\maketitle\"))\n",
    "\n",
    "\n",
    "\n",
    "\n",
    "def main():\n",
    "    # Ejemplo de uso\n",
    "    concrete=create_concrete(name=\"H30\",f_c=30*MPa, design_code=\"ACI 318-19\") # type: ignore\n",
    "    steelBar=SteelBar(name=\"ADN 420\", f_y=420*MPa) # type: ignore\n",
    "    section = Beam(\n",
    "        name=\"V-40x50\",\n",
    "        concrete=concrete,\n",
    "        steelBar=steelBar,\n",
    "        width=400 * mm,  # type: ignore\n",
    "        depth=500 * mm,  # type: ignore\n",
    "    )\n",
    "    print(f\"Nombre de la sección: {section.get_name()}\")\n",
    "\n",
    "    doc = MyDocument()\n",
    "    doc.append(NoEscape(\n",
    "        r\"\"\"\n",
    "        La resistencia nominal a flexión, $M_n$, de una viga de hormigón armado se calcula mediante la siguiente expresión:\n",
    "\n",
    "        \\begin{equation}\n",
    "        M_n = A_s \\cdot f_y \\cdot \\left( d - \\frac{a}{2} \\right)\n",
    "        \\end{equation}\n",
    "\n",
    "        Donde:\n",
    "\n",
    "        \\begin{itemize}\n",
    "            \\item $A_s$ es el área de la armadura de refuerzo (en $\\text{mm}^2$).\n",
    "            \\item $f_y$ es el esfuerzo de fluencia del acero de refuerzo (en MPa).\n",
    "            \\item $d$ es la distancia desde la fibra extrema en compresión hasta el centroide del acero de refuerzo (en mm).\n",
    "            \\item $a$ es la profundidad del bloque de compresión equivalente (en mm), que se determina como:\n",
    "            \\begin{equation}\n",
    "            a = \\frac{\\beta_1 \\cdot c}{2}\n",
    "            \\end{equation}\n",
    "        \\end{itemize}\n",
    "\n",
    "        La profundidad $c$ se relaciona con la deformación en el acero de refuerzo, y $\\beta_1$ es un factor que depende de la resistencia especificada del concreto, $f'_c$, según las disposiciones del ACI 318-19.\n",
    "\n",
    "        \\section{Factor de Resistencia}\n",
    "\n",
    "        Para asegurar un diseño seguro, se introduce un factor de resistencia, $\\phi$, que se aplica a la resistencia nominal:\n",
    "\n",
    "        \\begin{equation}\n",
    "        M_u \\leq \\phi \\cdot M_n\n",
    "        \\end{equation}\n",
    "\n",
    "        Donde $M_u$ es el momento flector último requerido debido a las cargas aplicadas, y $\\phi$ es el factor de reducción de resistencia, cuyo valor depende del tipo de fallo esperado y puede variar entre 0.65 y 0.90.\n",
    "\n",
    "        \"\"\"))\n",
    "    doc.generate_pdf(\"Pylatex_test\",clean_tex=False)\n",
    "\n",
    "if __name__ == \"__main__\":\n",
    "    main()"
   ]
  }
 ],
 "metadata": {
  "kernelspec": {
   "display_name": "Python 3 (ipykernel)",
   "language": "python",
   "name": "python3"
  },
  "language_info": {
   "codemirror_mode": {
    "name": "ipython",
    "version": 3
   },
   "file_extension": ".py",
   "mimetype": "text/x-python",
   "name": "python",
   "nbconvert_exporter": "python",
   "pygments_lexer": "ipython3",
   "version": "3.11.5"
  }
 },
 "nbformat": 4,
 "nbformat_minor": 5
}
