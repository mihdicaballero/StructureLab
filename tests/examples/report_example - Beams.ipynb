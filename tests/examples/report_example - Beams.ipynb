{
 "cells": [
  {
   "cell_type": "code",
   "execution_count": 1,
   "id": "03b0a911",
   "metadata": {},
   "outputs": [],
   "source": [
    "import forallpeople as si\n",
    "si.environment('Structural',top_level=True)\n",
    "#Useful extra units\n",
    "cm = 1e-2*m #type: ignore\n",
    "from IPython.display import Markdown, display\n",
    "import handcalcs.render"
   ]
  },
  {
   "cell_type": "code",
   "execution_count": 2,
   "id": "e9f0451e",
   "metadata": {},
   "outputs": [
    {
     "data": {
      "text/markdown": [
       "Viga 101, $b$=200 mm, $h$=500 mm, $r_\\text{geom}$=3 cm, H-25, B500-S"
      ],
      "text/plain": [
       "<IPython.core.display.Markdown object>"
      ]
     },
     "metadata": {},
     "output_type": "display_data"
    },
    {
     "data": {
      "text/markdown": [
       "Demanda $M_u$=50 kN·m, armadura 3Ø12, $A_s$=3.39 cm²>$A_{s.min} \\color{green}{\\, ✓}$"
      ],
      "text/plain": [
       "<IPython.core.display.Markdown object>"
      ]
     },
     "metadata": {},
     "output_type": "display_data"
    },
    {
     "data": {
      "text/markdown": [
       "Capacidad $\\phi M_n$=55 kN·m, $\\color{green}{\\text{FU}=0.91} \\, ✓$"
      ],
      "text/plain": [
       "<IPython.core.display.Markdown object>"
      ]
     },
     "metadata": {},
     "output_type": "display_data"
    },
    {
     "data": {
      "text/markdown": [
       "Demanda $V_u$=40 kN, armadura 1eØ6/20, $A_v$=2.83 cm²/m>$A_{v.min} \\color{green}{\\, ✓}$, capacidad $\\phi V_n$=80 kN, $\\color{green}{\\text{FU}=0.5} \\, ✓$"
      ],
      "text/plain": [
       "<IPython.core.display.Markdown object>"
      ]
     },
     "metadata": {},
     "output_type": "display_data"
    },
    {
     "data": {
      "text/markdown": [
       "Capacidad $\\phi V_n$=80 kN, $\\color{green}{\\text{FU}=0.5} \\, ✓$"
      ],
      "text/plain": [
       "<IPython.core.display.Markdown object>"
      ]
     },
     "metadata": {},
     "output_type": "display_data"
    }
   ],
   "source": [
    "b=20*cm\n",
    "h=50*cm\n",
    "M_u=50*kN*m # type: ignore\n",
    "ØM_n=55*kN*m # type: ignore\n",
    "FU_b=M_u/ØM_n\n",
    "rebar_b=\"3Ø12\"\n",
    "A_s=1.13*cm**2*3\n",
    "display(Markdown(f\"Viga 101, $b$={round(b,0)}, $h$={round(h,0)}, $r_\\\\text{{geom}}$=3 cm, H-25, B500-S\"))\n",
    "display(Markdown(f\"Demanda $M_u$={round(M_u,0)}, armadura {rebar_b}, $A_s$={round(A_s.value*10000,2)} cm²>$A_{{s.min}} \\\\color{{green}}{{\\\\, ✓}}$\"))\n",
    "display(Markdown(f\"Capacidad $\\phi M_n$={round(ØM_n,0)}, $\\\\color{{green}}{{\\\\text{{FU}}={round(FU_b,2)}}} \\\\, ✓$\"))\n",
    "V_u=40*kN # type: ignore\n",
    "rebar_v=\"1eØ6/20\"\n",
    "A_v=2.83*cm**2/m # type: ignore\n",
    "ØV_n=80*kN # type: ignore\n",
    "FU_v=V_u/ØV_n\n",
    "display(Markdown(f\"Demanda $V_u$={round(V_u,0)}, armadura {rebar_v}, $A_v$={round(A_v.value*10000,2)} cm²/m>$A_{{v.min}} \\\\color{{green}}{{\\\\, ✓}}$, capacidad $\\phi V_n$={round(ØV_n,0)}, $\\\\color{{green}}{{\\\\text{{FU}}={round(FU_v,2)}}} \\\\, ✓$\"))\n",
    "display(Markdown(f\"Capacidad $\\phi V_n$={round(ØV_n,0)}, $\\\\color{{green}}{{\\\\text{{FU}}={round(FU_v,2)}}} \\\\, ✓$\"))"
   ]
  },
  {
   "cell_type": "code",
   "execution_count": 16,
   "id": "7ad81445",
   "metadata": {},
   "outputs": [
    {
     "data": {
      "text/markdown": [
       "Armadura longitudinal inf 3Ø12, $A_s$=3.39cm²>$A_{s.min}$, $M_u$=40 kN·m, $\\phi M_n$=55 kN·m → $\\color{#439b00}{\\text{FU}=0.73}$"
      ],
      "text/plain": [
       "<IPython.core.display.Markdown object>"
      ]
     },
     "metadata": {},
     "output_type": "display_data"
    },
    {
     "data": {
      "text/markdown": [
       "Armadura longitudinal inf 3Ø12, $A_s$=3.39cm²>$A_{s.min}$, $M_u$=54 kN·m, $\\phi M_n$=55 kN·m → $\\color{#efc200}{\\text{FU}=0.98}$"
      ],
      "text/plain": [
       "<IPython.core.display.Markdown object>"
      ]
     },
     "metadata": {},
     "output_type": "display_data"
    },
    {
     "data": {
      "text/markdown": [
       "Armadura longitudinal inf 3Ø12, $A_s$=3.39cm²>$A_{s.min}$, $M_u$=70 kN·m, $\\phi M_n$=55 kN·m → $\\color{#d43e36}{\\text{FU}=1.27}$"
      ],
      "text/plain": [
       "<IPython.core.display.Markdown object>"
      ]
     },
     "metadata": {},
     "output_type": "display_data"
    },
    {
     "data": {
      "text/markdown": [
       "Armadura transversal 1eØ6/20, $A_v$=3.39cm²/m>$A_{v.min}$, $V_u$=30 kN, $\\phi V_n$=80 kN → $\\color{#439b00}{\\text{FU}=0.38}$"
      ],
      "text/plain": [
       "<IPython.core.display.Markdown object>"
      ]
     },
     "metadata": {},
     "output_type": "display_data"
    },
    {
     "data": {
      "text/markdown": [
       "$\\color{#439b00}{\\text{FU}=0.85}$"
      ],
      "text/plain": [
       "<IPython.core.display.Markdown object>"
      ]
     },
     "metadata": {},
     "output_type": "display_data"
    },
    {
     "data": {
      "text/markdown": [
       "$\\color{#439b00}{\\, \\checkmark}$"
      ],
      "text/plain": [
       "<IPython.core.display.Markdown object>"
      ]
     },
     "metadata": {},
     "output_type": "display_data"
    },
    {
     "data": {
      "text/markdown": [
       "$\\color{#d43e36}{\\, \\times}$"
      ],
      "text/plain": [
       "<IPython.core.display.Markdown object>"
      ]
     },
     "metadata": {},
     "output_type": "display_data"
    }
   ],
   "source": [
    "import math\n",
    "class Formatter:\n",
    "    def __init__(self):\n",
    "        # Define colors in the constructor\n",
    "        self.green = '#439b00'\n",
    "        self.red = '#d43e36'\n",
    "        self.yellow = '#efc200'\n",
    "    \n",
    "    def FU(self, FU):\n",
    "        # Determine color based on FU value\n",
    "        if FU < 0.95:\n",
    "            color = self.green\n",
    "        elif 0.95 <= FU <= 1:\n",
    "            color = self.yellow\n",
    "        else:\n",
    "            color = self.red\n",
    "        \n",
    "        return f\"$\\\\color{{{color}}}{{\\\\text{{FU}}={round(FU,2)}}}$\"\n",
    "    \n",
    "    def is_lower(self, value1, value2):\n",
    "        # Compare two values and return the appropriate formatted output\n",
    "        if value1 < value2:\n",
    "            return r\"$\\color{\" + self.green + r\"}{\\, \\checkmark}$\"  # Green checkmark\n",
    "        else:\n",
    "            return r\"$\\color{\" + self.red + r\"}{\\, \\times}$\"  # Red cross\n",
    "    \n",
    "    def is_greater(self, value1, value2):\n",
    "        # Compare two values and return the appropriate formatted output\n",
    "        if value1 > value2:\n",
    "            return r\"$\\color{\" + self.green + r\"}{\\, \\checkmark}$\"  # Green checkmark\n",
    "        else:\n",
    "            return r\"$\\color{\" + self.red + r\"}{\\, \\times}$\"  # Red cross\n",
    "\n",
    "class BeamDesign:\n",
    "    def __init__(self, b, h, M_u, V_u=0*kN):\n",
    "        self.b = b\n",
    "        self.h = h\n",
    "        self.M_u = M_u\n",
    "        self.V_u = V_u\n",
    "    \n",
    "    A_s = 1.13*cm**2*3\n",
    "    rebar_b = \"3Ø12\"  # Replace with actual rebar type if needed\n",
    "    ØM_n = 55*kN*m  # type: ignore\n",
    "    A_v=2*cm**2/m #type: ignore\n",
    "    rebar_v=\"1eØ6/20\"\n",
    "    ØV_n = 40*kN #type:ignore\n",
    "    @property\n",
    "    def flexure_results(self):\n",
    "        FU_b = self.M_u/ØM_n  # Example Utilization Ratio (FU)\n",
    "        # Create FUFormatter instance and format FU value\n",
    "        formatter = Formatter()\n",
    "        formatted_FU = formatter.FU(FU_b)\n",
    "        # Print results\n",
    "        display(Markdown(f\"Armadura longitudinal inf {rebar_b}, $A_s$={round(A_s.value*10000,2)}\"\n",
    "                         f\"cm²>$A_{{s.min}}$, $M_u$={round(self.M_u,0)}, $\\\\phi M_n$={round(ØM_n,0)} → {formatted_FU}\"))\n",
    "    @property\n",
    "    def shear_results(self):\n",
    "        FU_v = self.V_u/ØV_n  # Example Utilization Ratio (FU)\n",
    "        # Create FUFormatter instance and format FU value\n",
    "        formatter = Formatter()\n",
    "        formatted_FU = formatter.FU(FU_v)\n",
    "        # Print results\n",
    "        display(Markdown(f\"Armadura transversal {rebar_v}, $A_v$={round(A_s.value*10000,2)}\"\n",
    "                         f\"cm²/m>$A_{{v.min}}$, $V_u$={round(self.V_u,0)}, $\\\\phi V_n$={round(ØV_n,0)} → {formatted_FU}\"))\n",
    "\n",
    "# Example usage\n",
    "b=20*cm\n",
    "h=50*cm\n",
    "M_u=40*kN*m # type: ignore\n",
    "V_u=30*kN #type:ignore\n",
    "beam = BeamDesign(b, h, M_u)\n",
    "beam.flexure_results\n",
    "M_u=54*kN*m # type: ignore\n",
    "beam = BeamDesign(b, h, M_u)\n",
    "beam.flexure_results\n",
    "M_u=70*kN*m # type: ignore\n",
    "beam = BeamDesign(b, h, M_u, V_u)\n",
    "beam.flexure_results\n",
    "beam.shear_results\n",
    "formatter = Formatter()\n",
    "display(Markdown(formatter.FU(0.85)))\n",
    "display(Markdown(formatter.is_lower(0.85,1)))\n",
    "display(Markdown(formatter.is_greater(0.85,1)))\n"
   ]
  },
  {
   "cell_type": "code",
   "execution_count": 18,
   "id": "319fc1c8",
   "metadata": {},
   "outputs": [
    {
     "data": {
      "text/html": [
       "<div>\n",
       "<style scoped>\n",
       "    .dataframe tbody tr th:only-of-type {\n",
       "        vertical-align: middle;\n",
       "    }\n",
       "\n",
       "    .dataframe tbody tr th {\n",
       "        vertical-align: top;\n",
       "    }\n",
       "\n",
       "    .dataframe thead th {\n",
       "        text-align: right;\n",
       "    }\n",
       "</style>\n",
       "<table border=\"1\" class=\"dataframe\">\n",
       "  <thead>\n",
       "    <tr style=\"text-align: right;\">\n",
       "      <th></th>\n",
       "      <th>Viga</th>\n",
       "      <th>b</th>\n",
       "      <th>h</th>\n",
       "      <th>As.inf</th>\n",
       "      <th>As.sup</th>\n",
       "      <th>Av</th>\n",
       "      <th>As.inf.real</th>\n",
       "      <th>As.sup.real</th>\n",
       "      <th>Av.real</th>\n",
       "      <th>ØMn</th>\n",
       "      <th>ØVn</th>\n",
       "    </tr>\n",
       "  </thead>\n",
       "  <tbody>\n",
       "    <tr>\n",
       "      <th>0</th>\n",
       "      <td>Unidad</td>\n",
       "      <td>cm</td>\n",
       "      <td>cm</td>\n",
       "      <td></td>\n",
       "      <td></td>\n",
       "      <td></td>\n",
       "      <td>cm²</td>\n",
       "      <td>cm²</td>\n",
       "      <td>cm²/m</td>\n",
       "      <td>kNm</td>\n",
       "      <td>kN</td>\n",
       "    </tr>\n",
       "    <tr>\n",
       "      <th>1</th>\n",
       "      <td>VF-01</td>\n",
       "      <td>20</td>\n",
       "      <td>60</td>\n",
       "      <td>3Ø12</td>\n",
       "      <td>2Ø10</td>\n",
       "      <td>1eØ6/10</td>\n",
       "      <td>3.39</td>\n",
       "      <td>2.01</td>\n",
       "      <td>2</td>\n",
       "      <td>100</td>\n",
       "      <td>80</td>\n",
       "    </tr>\n",
       "    <tr>\n",
       "      <th>2</th>\n",
       "      <td>VF-02</td>\n",
       "      <td>20</td>\n",
       "      <td>60</td>\n",
       "      <td>3Ø12</td>\n",
       "      <td>2Ø10</td>\n",
       "      <td>1eØ6/10</td>\n",
       "      <td>3.39</td>\n",
       "      <td>2.01</td>\n",
       "      <td>2</td>\n",
       "      <td>100</td>\n",
       "      <td>80</td>\n",
       "    </tr>\n",
       "    <tr>\n",
       "      <th>3</th>\n",
       "      <td>V-102</td>\n",
       "      <td>20</td>\n",
       "      <td>60</td>\n",
       "      <td>3Ø12</td>\n",
       "      <td>2Ø10</td>\n",
       "      <td>1eØ6/10</td>\n",
       "      <td>3.39</td>\n",
       "      <td>2.01</td>\n",
       "      <td>2</td>\n",
       "      <td>100</td>\n",
       "      <td>80</td>\n",
       "    </tr>\n",
       "    <tr>\n",
       "      <th>4</th>\n",
       "      <td>V-2051</td>\n",
       "      <td>20</td>\n",
       "      <td>60</td>\n",
       "      <td>3Ø12</td>\n",
       "      <td>2Ø10</td>\n",
       "      <td>1eØ6/10</td>\n",
       "      <td>3.39</td>\n",
       "      <td>2.01</td>\n",
       "      <td>2</td>\n",
       "      <td>100</td>\n",
       "      <td>80</td>\n",
       "    </tr>\n",
       "  </tbody>\n",
       "</table>\n",
       "</div>"
      ],
      "text/plain": [
       "     Viga   b   h As.inf As.sup       Av As.inf.real As.sup.real Av.real  ØMn  \\\n",
       "0  Unidad  cm  cm                                cm²         cm²   cm²/m  kNm   \n",
       "1   VF-01  20  60   3Ø12   2Ø10  1eØ6/10        3.39        2.01       2  100   \n",
       "2   VF-02  20  60   3Ø12   2Ø10  1eØ6/10        3.39        2.01       2  100   \n",
       "3   V-102  20  60   3Ø12   2Ø10  1eØ6/10        3.39        2.01       2  100   \n",
       "4  V-2051  20  60   3Ø12   2Ø10  1eØ6/10        3.39        2.01       2  100   \n",
       "\n",
       "  ØVn  \n",
       "0  kN  \n",
       "1  80  \n",
       "2  80  \n",
       "3  80  \n",
       "4  80  "
      ]
     },
     "execution_count": 18,
     "metadata": {},
     "output_type": "execute_result"
    }
   ],
   "source": [
    "import pandas as pd\n",
    "\n",
    "class Beam:\n",
    "    def __init__(self, name, b, h, as_inf, as_sup, av, as_inf_real, as_sup_real, av_real, mn, vn):\n",
    "        self.name = name  # Beam name, e.g., 'VF-01'\n",
    "        self.b = b  # Width of the beam in cm\n",
    "        self.h = h  # Height of the beam in cm\n",
    "        self.as_inf = as_inf  # Lower reinforcement (string)\n",
    "        self.as_sup = as_sup  # Upper reinforcement (string)\n",
    "        self.av = av  # Shear reinforcement (string)\n",
    "        self.as_inf_real = as_inf_real  # Lower reinforcement area in cm²\n",
    "        self.as_sup_real = as_sup_real  # Upper reinforcement area in cm²\n",
    "        self.av_real = av_real  # Shear reinforcement area in cm²/m\n",
    "        self.mn = mn  # Bending moment capacity in kNm\n",
    "        self.vn = vn  # Shear force capacity in kN\n",
    "\n",
    "    def to_dict(self):\n",
    "        \"\"\"\n",
    "        Converts beam properties to a dictionary for dataframe row.\n",
    "        \"\"\"\n",
    "        return {\n",
    "            \"Viga\": self.name,\n",
    "            \"b\": self.b,\n",
    "            \"h\": self.h,\n",
    "            \"As.inf\": self.as_inf,\n",
    "            \"As.sup\": self.as_sup,\n",
    "            \"Av\": self.av,\n",
    "            \"As.inf.real\": self.as_inf_real,\n",
    "            \"As.sup.real\": self.as_sup_real,\n",
    "            \"Av.real\": self.av_real,\n",
    "            \"ØMn\": self.mn,\n",
    "            \"ØVn\": self.vn\n",
    "        }\n",
    "\n",
    "\n",
    "class BeamDataFrame:\n",
    "    def __init__(self):\n",
    "        self.columns = [\"Viga\", \"b\", \"h\", \"As.inf\", \"As.sup\", \"Av\", \n",
    "                        \"As.inf.real\", \"As.sup.real\", \"Av.real\", \"ØMn\", \"ØVn\"]\n",
    "\n",
    "    def create_dataframe(self, beams):\n",
    "        \"\"\"\n",
    "        Creates a DataFrame from a list of Beam objects and adds the units row.\n",
    "        \n",
    "        :param beams: List of Beam objects\n",
    "        :return: A pandas DataFrame with the data from Beam objects and units as the first row.\n",
    "        \"\"\"\n",
    "        # Convert each beam object to a row dictionary\n",
    "        data = [beam.to_dict() for beam in beams]\n",
    "        \n",
    "        # Add units row\n",
    "        units_row = {\n",
    "            \"Viga\": \"Unidad\",\n",
    "            \"b\": \"cm\",\n",
    "            \"h\": \"cm\",\n",
    "            \"As.inf\": \"\",\n",
    "            \"As.sup\": \"\",\n",
    "            \"Av\": \"\",\n",
    "            \"As.inf.real\": \"cm²\",\n",
    "            \"As.sup.real\": \"cm²\",\n",
    "            \"Av.real\": \"cm²/m\",\n",
    "            \"ØMn\": \"kNm\",\n",
    "            \"ØVn\": \"kN\"\n",
    "        }\n",
    "        \n",
    "        # Combine units row with beam data\n",
    "        data.insert(0, units_row)\n",
    "        \n",
    "        # Create a DataFrame from the data\n",
    "        df = pd.DataFrame(data, columns=self.columns)\n",
    "        \n",
    "        return df\n",
    "\n",
    "# Example usage:\n",
    "beam1 = Beam(\"VF-01\", 20, 60, \"3Ø12\", \"2Ø10\", \"1eØ6/10\", 3.39, 2.01, 2, 100, 80)\n",
    "beam2 = Beam(\"VF-02\", 20, 60, \"3Ø12\", \"2Ø10\", \"1eØ6/10\", 3.39, 2.01, 2, 100, 80)\n",
    "beam3 = Beam(\"V-102\", 20, 60, \"3Ø12\", \"2Ø10\", \"1eØ6/10\", 3.39, 2.01, 2, 100, 80)\n",
    "beam4 = Beam(\"V-2051\", 20, 60, \"3Ø12\", \"2Ø10\", \"1eØ6/10\", 3.39, 2.01, 2, 100, 80)\n",
    "\n",
    "# Create the DataFrame\n",
    "beam_df_creator = BeamDataFrame()\n",
    "df = beam_df_creator.create_dataframe([beam1, beam2, beam3, beam4])\n",
    "df"
   ]
  },
  {
   "cell_type": "code",
   "execution_count": 4,
   "id": "e6209c76",
   "metadata": {},
   "outputs": [
    {
     "ename": "ModuleNotFoundError",
     "evalue": "No module named 'material'",
     "output_type": "error",
     "traceback": [
      "\u001b[1;31m---------------------------------------------------------------------------\u001b[0m",
      "\u001b[1;31mModuleNotFoundError\u001b[0m                       Traceback (most recent call last)",
      "Cell \u001b[1;32mIn[4], line 8\u001b[0m\n\u001b[0;32m      6\u001b[0m \u001b[38;5;28;01mfrom\u001b[39;00m \u001b[38;5;21;01mstructurelab\u001b[39;00m\u001b[38;5;21;01m.\u001b[39;00m\u001b[38;5;21;01msettings\u001b[39;00m \u001b[38;5;28;01mimport\u001b[39;00m Settings\n\u001b[0;32m      7\u001b[0m \u001b[38;5;28;01mfrom\u001b[39;00m \u001b[38;5;21;01mstructurelab\u001b[39;00m\u001b[38;5;21;01m.\u001b[39;00m\u001b[38;5;21;01mmaterial\u001b[39;00m \u001b[38;5;28;01mimport\u001b[39;00m create_concrete, SteelBar\n\u001b[1;32m----> 8\u001b[0m \u001b[38;5;28;01mfrom\u001b[39;00m \u001b[38;5;21;01mstructurelab\u001b[39;00m\u001b[38;5;21;01m.\u001b[39;00m\u001b[38;5;21;01msection\u001b[39;00m \u001b[38;5;28;01mimport\u001b[39;00m Beam\n\u001b[0;32m     10\u001b[0m \u001b[38;5;28;01mfrom\u001b[39;00m \u001b[38;5;21;01mpylatex\u001b[39;00m \u001b[38;5;28;01mimport\u001b[39;00m Command, Document, Math, Matrix, Section, Subsection, VectorName, NoEscape, Figure, LongTable\n\u001b[0;32m     11\u001b[0m \u001b[38;5;28;01mfrom\u001b[39;00m \u001b[38;5;21;01mpylatex\u001b[39;00m\u001b[38;5;21;01m.\u001b[39;00m\u001b[38;5;21;01mutils\u001b[39;00m \u001b[38;5;28;01mimport\u001b[39;00m NoEscape\n",
      "File \u001b[1;32me:\\Documents\\GitHub\\StructureLab\\structurelab\\section.py:6\u001b[0m\n\u001b[0;32m      3\u001b[0m forallpeople\u001b[38;5;241m.\u001b[39menvironment(\u001b[38;5;124m'\u001b[39m\u001b[38;5;124mstructural\u001b[39m\u001b[38;5;124m'\u001b[39m, top_level\u001b[38;5;241m=\u001b[39m\u001b[38;5;28;01mTrue\u001b[39;00m)\n\u001b[0;32m      4\u001b[0m \u001b[38;5;28;01mimport\u001b[39;00m \u001b[38;5;21;01mnumpy\u001b[39;00m \u001b[38;5;28;01mas\u001b[39;00m \u001b[38;5;21;01mnp\u001b[39;00m\n\u001b[1;32m----> 6\u001b[0m \u001b[38;5;28;01mimport\u001b[39;00m \u001b[38;5;21;01mmaterial\u001b[39;00m\n\u001b[0;32m      7\u001b[0m \u001b[38;5;28;01mfrom\u001b[39;00m \u001b[38;5;21;01msettings\u001b[39;00m \u001b[38;5;28;01mimport\u001b[39;00m Settings\n\u001b[0;32m     12\u001b[0m \u001b[38;5;66;03m# Definir algunas unidades adicionales útiles\u001b[39;00m\n",
      "\u001b[1;31mModuleNotFoundError\u001b[0m: No module named 'material'"
     ]
    }
   ],
   "source": [
    "import sys\n",
    "import os\n",
    "# Añadir el directorio raíz al PYTHONPATH\n",
    "sys.path.append(os.path.abspath(os.path.join(os.getcwd(), '../../')))\n",
    "\n",
    "from structurelab.settings import Settings\n",
    "from structurelab.material import create_concrete, SteelBar\n",
    "from structurelab.section import Beam\n",
    "\n",
    "from pylatex import Command, Document, Math, Matrix, Section, Subsection, VectorName, NoEscape, Figure, LongTable\n",
    "from pylatex.utils import NoEscape\n",
    "import matplotlib\n",
    "matplotlib.use(\"Agg\")  # Not to use X server. For TravisCI.\n",
    "import matplotlib.pyplot as plt  # noq\n",
    "\n",
    "class MyDocument(Document):\n",
    "    def __init__(self, documentclass='article', document_options=['a4paper','spanish','10pt'], geometry_options={\"left\": \"20mm\",\"right\": \"20mm\"}):\n",
    "        # Pasar las opciones al constructor de la clase base Document\n",
    "        super().__init__(documentclass=documentclass, document_options=document_options, geometry_options=geometry_options)\n",
    "        self.preamble.append(Command(\"usepackage\",\"mathtools\"))\n",
    "        self.preamble.append(Command(\"title\", \"Viga rectangular a flexión - ACI 318-19\"))\n",
    "        self.preamble.append(Command(\"author\", \"StructureLab\"))\n",
    "        self.preamble.append(Command(\"date\", NoEscape(r\"\\today\")))\n",
    "        self.append(NoEscape(r\"\\maketitle\"))\n",
    "\n",
    "\n",
    "\n",
    "\n",
    "def main():\n",
    "    # Ejemplo de uso\n",
    "    concrete=create_concrete(name=\"H30\",f_c=30*MPa, design_code=\"ACI 318-19\") # type: ignore\n",
    "    steelBar=SteelBar(name=\"ADN 420\", f_y=420*MPa) # type: ignore\n",
    "    section = Beam(\n",
    "        name=\"V-40x50\",\n",
    "        concrete=concrete,\n",
    "        steelBar=steelBar,\n",
    "        width=400 * mm,  # type: ignore\n",
    "        depth=500 * mm,  # type: ignore\n",
    "    )\n",
    "    print(f\"Nombre de la sección: {section.get_name()}\")\n",
    "\n",
    "    doc = MyDocument()\n",
    "    doc.append(NoEscape(\n",
    "        r\"\"\"\n",
    "        La resistencia nominal a flexión, $M_n$, de una viga de hormigón armado se calcula mediante la siguiente expresión:\n",
    "\n",
    "        \\begin{equation}\n",
    "        M_n = A_s \\cdot f_y \\cdot \\left( d - \\frac{a}{2} \\right)\n",
    "        \\end{equation}\n",
    "\n",
    "        Donde:\n",
    "\n",
    "        \\begin{itemize}\n",
    "            \\item $A_s$ es el área de la armadura de refuerzo (en $\\text{mm}^2$).\n",
    "            \\item $f_y$ es el esfuerzo de fluencia del acero de refuerzo (en MPa).\n",
    "            \\item $d$ es la distancia desde la fibra extrema en compresión hasta el centroide del acero de refuerzo (en mm).\n",
    "            \\item $a$ es la profundidad del bloque de compresión equivalente (en mm), que se determina como:\n",
    "            \\begin{equation}\n",
    "            a = \\frac{\\beta_1 \\cdot c}{2}\n",
    "            \\end{equation}\n",
    "        \\end{itemize}\n",
    "\n",
    "        La profundidad $c$ se relaciona con la deformación en el acero de refuerzo, y $\\beta_1$ es un factor que depende de la resistencia especificada del concreto, $f'_c$, según las disposiciones del ACI 318-19.\n",
    "\n",
    "        \\section{Factor de Resistencia}\n",
    "\n",
    "        Para asegurar un diseño seguro, se introduce un factor de resistencia, $\\phi$, que se aplica a la resistencia nominal:\n",
    "\n",
    "        \\begin{equation}\n",
    "        M_u \\leq \\phi \\cdot M_n\n",
    "        \\end{equation}\n",
    "\n",
    "        Donde $M_u$ es el momento flector último requerido debido a las cargas aplicadas, y $\\phi$ es el factor de reducción de resistencia, cuyo valor depende del tipo de fallo esperado y puede variar entre 0.65 y 0.90.\n",
    "\n",
    "        \"\"\"))\n",
    "    doc.generate_pdf(\"Pylatex_test\",clean_tex=False)\n",
    "\n",
    "if __name__ == \"__main__\":\n",
    "    main()"
   ]
  }
 ],
 "metadata": {
  "kernelspec": {
   "display_name": "Python 3 (ipykernel)",
   "language": "python",
   "name": "python3"
  },
  "language_info": {
   "codemirror_mode": {
    "name": "ipython",
    "version": 3
   },
   "file_extension": ".py",
   "mimetype": "text/x-python",
   "name": "python",
   "nbconvert_exporter": "python",
   "pygments_lexer": "ipython3",
   "version": "3.11.5"
  }
 },
 "nbformat": 4,
 "nbformat_minor": 5
}
