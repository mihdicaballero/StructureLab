{
 "cells": [
  {
   "cell_type": "code",
   "execution_count": 2,
   "id": "03b0a911",
   "metadata": {},
   "outputs": [],
   "source": [
    "import forallpeople\n",
    "forallpeople.environment('Structural',top_level=True)\n",
    "#Useful extra units\n",
    "cm = 1e-2*m #type: ignore\n",
    "from IPython.display import Markdown, display\n",
    "import handcalcs.render"
   ]
  },
  {
   "cell_type": "markdown",
   "id": "36eda2c0",
   "metadata": {},
   "source": [
    "Calculations\n",
    "Let the force be represented as:\n",
    "$$F=ma$$\n",
    "Where:\n",
    "- $m$ is the mass in $\\text{kg}$\n",
    "- $a$ is the acceleration in $\\text{m/s}^2$"
   ]
  },
  {
   "cell_type": "code",
   "execution_count": 5,
   "id": "e9f0451e",
   "metadata": {},
   "outputs": [
    {
     "data": {
      "text/markdown": [
       "The result is: $F$=5.0 kN"
      ],
      "text/plain": [
       "<IPython.core.display.Markdown object>"
      ]
     },
     "metadata": {},
     "output_type": "display_data"
    },
    {
     "data": {
      "text/markdown": [
       "The result is: $I_x$=16457503 mm⁴"
      ],
      "text/plain": [
       "<IPython.core.display.Markdown object>"
      ]
     },
     "metadata": {},
     "output_type": "display_data"
    },
    {
     "data": {
      "text/markdown": [
       "The result is: $I_y$=2986995 mm⁴"
      ],
      "text/plain": [
       "<IPython.core.display.Markdown object>"
      ]
     },
     "metadata": {},
     "output_type": "display_data"
    },
    {
     "data": {
      "text/html": [
       "1.124 kip"
      ],
      "text/latex": [
       "$1.124\\ \\mathrm{kip}$"
      ],
      "text/markdown": [
       "1.124 kip"
      ],
      "text/plain": [
       "1.124 kip"
      ]
     },
     "execution_count": 5,
     "metadata": {},
     "output_type": "execute_result"
    }
   ],
   "source": [
    "# Example calculation\n",
    "mass=100*kg\n",
    "a = 9.81*m/s**2\n",
    "force = mass * a\n",
    "force=5*kN\n",
    "display(Markdown(f\"The result is: $F$={round(force,1)}\"))\n",
    "t = 3.75*mm #Espesor\n",
    "H = 300*mm #Altura\n",
    "B = 100*mm #Ancho\n",
    "I_x = B*H**3/12 - (B - t)*(H - t)**3/12\n",
    "I_y = H*B**3/12 - (H - t)*(B - t)**3/12\n",
    "display(Markdown(f\"The result is: $I_x$={round(I_x,0)}\"))\n",
    "display(Markdown(f\"The result is: $I_y$={round(I_y,0)}\"))\n",
    "# Cambio de unidad\n",
    "force.to(unit_name=\"kip\")\n"
   ]
  },
  {
   "cell_type": "code",
   "execution_count": 16,
   "id": "77ed9e50",
   "metadata": {},
   "outputs": [],
   "source": [
    "%%capture\n",
    "!jupyter nbconvert --to markdown --no-input report_example.ipynb"
   ]
  },
  {
   "cell_type": "code",
   "execution_count": 33,
   "id": "a1eaf5ed",
   "metadata": {},
   "outputs": [],
   "source": [
    "%%capture\n",
    "!jupyter nbconvert --no-input report_example.ipynb --to html"
   ]
  },
  {
   "cell_type": "code",
   "execution_count": 10,
   "id": "cae5197d",
   "metadata": {},
   "outputs": [],
   "source": [
    "%%capture\n",
    "!jupyter nbconvert --to pdf --no-input report_example.ipynb"
   ]
  },
  {
   "cell_type": "code",
   "execution_count": 11,
   "id": "26e670d5",
   "metadata": {},
   "outputs": [],
   "source": [
    "%%capture\n",
    "!jupyter nbconvert --to pdf report_example.ipynb"
   ]
  },
  {
   "cell_type": "code",
   "execution_count": 6,
   "id": "6709a454",
   "metadata": {},
   "outputs": [
    {
     "data": {
      "text/latex": [
       "\\[\n",
       "\\begin{aligned}\n",
       "\\mathrm{mass} &= 100.00\\ \\mathrm{kg} \\; \n",
       "\\\\[10pt]\n",
       "a &= 9.81 \\cdot \\frac{ m }{ \\left( s \\right) ^{ 2 } }  = 9.81 \\cdot \\frac{ m }{ \\left( s \\right) ^{ 2 } } &= 9.81\\ \\mathrm{m} \\cdot \\mathrm{s}^{-2}  \n",
       "\\\\[10pt]\n",
       "\\mathrm{force} &= \\mathrm{mass} \\cdot a  = 100.00\\ \\mathrm{kg} \\cdot 9.81\\ \\mathrm{m} \\cdot \\mathrm{s}^{-2} &= 981.00\\ \\mathrm{N}  \n",
       "\\end{aligned}\n",
       "\\]"
      ],
      "text/plain": [
       "<IPython.core.display.Latex object>"
      ]
     },
     "metadata": {},
     "output_type": "display_data"
    }
   ],
   "source": [
    "%%render 2\n",
    "mass=100*kg\n",
    "a = 9.81*m/s**2\n",
    "force = mass * a"
   ]
  },
  {
   "cell_type": "code",
   "execution_count": 7,
   "id": "47f66527",
   "metadata": {},
   "outputs": [
    {
     "data": {
      "text/latex": [
       "\\[\n",
       "\\begin{aligned}\n",
       "\\mathrm{mass} &= 100.00\\ \\mathrm{kg} \\; \n",
       "\\\\[10pt]\n",
       "a &= 9.81\\ \\mathrm{m} \\cdot \\mathrm{s}^{-2} \\; \n",
       "\\\\[10pt]\n",
       "\\mathrm{force} &= 981.00\\ \\mathrm{N} \\; \n",
       "\\end{aligned}\n",
       "\\]"
      ],
      "text/plain": [
       "<IPython.core.display.Latex object>"
      ]
     },
     "metadata": {},
     "output_type": "display_data"
    }
   ],
   "source": [
    "%%render 2\n",
    "mass=100*kg\n",
    "a = (9.81*m/s**2)\n",
    "force = (mass * a)"
   ]
  },
  {
   "cell_type": "code",
   "execution_count": 8,
   "id": "a2fad79d",
   "metadata": {},
   "outputs": [
    {
     "data": {
      "text/latex": [
       "\\[\n",
       "\\begin{aligned}\n",
       "\\mathrm{mass} &= 100.00\\ \\mathrm{kg} \\; \n",
       " &a &= 9.81\\ \\mathrm{m} \\cdot \\mathrm{s}^{-2} \\; \n",
       " &\\mathrm{force} &= 981.00\\ \\mathrm{N} \\; \n",
       "\\\\[10pt]\n",
       "\\end{aligned}\n",
       "\\]"
      ],
      "text/plain": [
       "<IPython.core.display.Latex object>"
      ]
     },
     "metadata": {},
     "output_type": "display_data"
    }
   ],
   "source": [
    "%%render params 2 \n",
    "mass=100*kg\n",
    "a = 9.81*m/s**2\n",
    "force = mass * a"
   ]
  },
  {
   "cell_type": "code",
   "execution_count": 9,
   "id": "012d1342",
   "metadata": {},
   "outputs": [
    {
     "data": {
      "text/latex": [
       "\\[\n",
       "\\begin{aligned}\n",
       "\\mathrm{mass} &= 100 \\cdot \\mathrm{kg} \\; \\;\\textrm{(Comment in line)}\n",
       "\\\\[10pt]\n",
       "a &= 9.81 \\cdot \\frac{ m }{ \\left( s \\right) ^{ 2 } } \\; \n",
       "\\\\[10pt]\n",
       "\\mathrm{force} &= \\mathrm{mass} \\cdot a \\; \n",
       "\\end{aligned}\n",
       "\\]"
      ],
      "text/plain": [
       "<IPython.core.display.Latex object>"
      ]
     },
     "metadata": {},
     "output_type": "display_data"
    }
   ],
   "source": [
    "%%render symbolic\n",
    "mass=100*kg #Comment in line\n",
    "a = 9.81*m/s**2\n",
    "force = mass * a\n"
   ]
  },
  {
   "cell_type": "code",
   "execution_count": 10,
   "id": "c0720981",
   "metadata": {},
   "outputs": [
    {
     "data": {
      "text/latex": [
       "\\[\n",
       "\\begin{aligned}\n",
       "\\mathrm{force} &= 981.00\\ \\mathrm{N} \\;\n",
       "\\end{aligned}\n",
       "\\]"
      ],
      "text/plain": [
       "<IPython.core.display.Latex object>"
      ]
     },
     "metadata": {},
     "output_type": "display_data"
    }
   ],
   "source": [
    "%%render params 2\n",
    "force = mass * a"
   ]
  },
  {
   "cell_type": "code",
   "execution_count": 11,
   "id": "425a6389",
   "metadata": {},
   "outputs": [
    {
     "data": {
      "text/latex": [
       "\\[\n",
       "\\begin{aligned}\n",
       "t &= 3.75\\ \\mathrm{mm} \\; \\;\\textrm{(Espesor)}\n",
       " &H &= 200.00\\ \\mathrm{mm} \\; \\;\\textrm{(Altura)}\n",
       " &B &= 100.00\\ \\mathrm{mm} \\; \\;\\textrm{(Ancho)}\n",
       "\\\\[10pt]\n",
       "\\end{aligned}\n",
       "\\]"
      ],
      "text/plain": [
       "<IPython.core.display.Latex object>"
      ]
     },
     "metadata": {},
     "output_type": "display_data"
    }
   ],
   "source": [
    "%%render params 2\n",
    "#Tubo 200x100x3.75mm\n",
    "t = 3.75*mm #Espesor\n",
    "H = 200*mm #Altura\n",
    "B = 100*mm #Ancho"
   ]
  },
  {
   "cell_type": "code",
   "execution_count": 12,
   "id": "329554da",
   "metadata": {},
   "outputs": [
    {
     "data": {
      "text/latex": [
       "\\[\n",
       "\\begin{aligned}\n",
       "I_{x} &= B \\cdot \\frac{ \\left( H \\right) ^{ 3 } }{ 12 } - \\left( B - t \\right) \\cdot \\frac{ \\left( H - t \\right) ^{ 3 } }{ 12 } \\\\&= 100.000\\ \\mathrm{mm} \\cdot \\frac{ \\left( 200.000\\ \\mathrm{mm} \\right) ^{ 3 } }{ 12 } - \\left( 100.000\\ \\mathrm{mm} - 3.750\\ \\mathrm{mm} \\right) \\cdot \\frac{ \\left( 200.000\\ \\mathrm{mm} - 3.750\\ \\mathrm{mm} \\right) ^{ 3 } }{ 12 } \\\\&= 6042122.192\\ \\mathrm{mm}^{4}  \\\\[10pt]\n",
       "\\\\[10pt]\n",
       "I_{y} &= H \\cdot \\frac{ \\left( B \\right) ^{ 3 } }{ 12 } - \\left( H - t \\right) \\cdot \\frac{ \\left( B - t \\right) ^{ 3 } }{ 12 } \\\\&= 200.000\\ \\mathrm{mm} \\cdot \\frac{ \\left( 100.000\\ \\mathrm{mm} \\right) ^{ 3 } }{ 12 } - \\left( 200.000\\ \\mathrm{mm} - 3.750\\ \\mathrm{mm} \\right) \\cdot \\frac{ \\left( 100.000\\ \\mathrm{mm} - 3.750\\ \\mathrm{mm} \\right) ^{ 3 } }{ 12 } \\\\&= 2084212.036\\ \\mathrm{mm}^{4}  \\\\[10pt]\n",
       "\\end{aligned}\n",
       "\\]"
      ],
      "text/plain": [
       "<IPython.core.display.Latex object>"
      ]
     },
     "metadata": {},
     "output_type": "display_data"
    }
   ],
   "source": [
    "%%render\n",
    "I_x = B*H**3/12 - (B - t)*(H - t)**3/12\n",
    "I_y = H*B**3/12 - (H - t)*(B - t)**3/12"
   ]
  },
  {
   "cell_type": "code",
   "execution_count": 39,
   "id": "e6209c76",
   "metadata": {},
   "outputs": [
    {
     "ename": "TypeError",
     "evalue": "SteelBar.__init__() got an unexpected keyword argument 'f_y'",
     "output_type": "error",
     "traceback": [
      "\u001b[1;31m---------------------------------------------------------------------------\u001b[0m",
      "\u001b[1;31mTypeError\u001b[0m                                 Traceback (most recent call last)",
      "Cell \u001b[1;32mIn[39], line 45\u001b[0m\n\u001b[0;32m     42\u001b[0m     \u001b[38;5;28mprint\u001b[39m(\u001b[38;5;124mf\u001b[39m\u001b[38;5;124m\"\u001b[39m\u001b[38;5;124mNombre de la sección: \u001b[39m\u001b[38;5;132;01m{\u001b[39;00msection\u001b[38;5;241m.\u001b[39mget_name()\u001b[38;5;132;01m}\u001b[39;00m\u001b[38;5;124m\"\u001b[39m)\n\u001b[0;32m     44\u001b[0m \u001b[38;5;28;01mif\u001b[39;00m \u001b[38;5;18m__name__\u001b[39m \u001b[38;5;241m==\u001b[39m \u001b[38;5;124m\"\u001b[39m\u001b[38;5;124m__main__\u001b[39m\u001b[38;5;124m\"\u001b[39m:\n\u001b[1;32m---> 45\u001b[0m     main()\n",
      "Cell \u001b[1;32mIn[39], line 33\u001b[0m, in \u001b[0;36mmain\u001b[1;34m()\u001b[0m\n\u001b[0;32m     30\u001b[0m \u001b[38;5;28;01mdef\u001b[39;00m \u001b[38;5;21mmain\u001b[39m():\n\u001b[0;32m     31\u001b[0m     \u001b[38;5;66;03m# Ejemplo de uso\u001b[39;00m\n\u001b[0;32m     32\u001b[0m     concrete\u001b[38;5;241m=\u001b[39mcreate_concrete(name\u001b[38;5;241m=\u001b[39m\u001b[38;5;124m\"\u001b[39m\u001b[38;5;124mH30\u001b[39m\u001b[38;5;124m\"\u001b[39m,f_c\u001b[38;5;241m=\u001b[39m\u001b[38;5;241m30\u001b[39m\u001b[38;5;241m*\u001b[39mMPa, design_code\u001b[38;5;241m=\u001b[39m\u001b[38;5;124m\"\u001b[39m\u001b[38;5;124mACI 318-19\u001b[39m\u001b[38;5;124m\"\u001b[39m) \u001b[38;5;66;03m# type: ignore\u001b[39;00m\n\u001b[1;32m---> 33\u001b[0m     steelBar\u001b[38;5;241m=\u001b[39mSteelBar(name\u001b[38;5;241m=\u001b[39m\u001b[38;5;124m\"\u001b[39m\u001b[38;5;124mADN 420\u001b[39m\u001b[38;5;124m\"\u001b[39m, f_y\u001b[38;5;241m=\u001b[39m\u001b[38;5;241m420\u001b[39m\u001b[38;5;241m*\u001b[39mMPa) \u001b[38;5;66;03m# type: ignore\u001b[39;00m\n\u001b[0;32m     34\u001b[0m     section \u001b[38;5;241m=\u001b[39m Beam(\n\u001b[0;32m     35\u001b[0m         name\u001b[38;5;241m=\u001b[39m\u001b[38;5;124m\"\u001b[39m\u001b[38;5;124mV-40x50\u001b[39m\u001b[38;5;124m\"\u001b[39m,\n\u001b[0;32m     36\u001b[0m         concrete\u001b[38;5;241m=\u001b[39mconcrete,\n\u001b[1;32m   (...)\u001b[0m\n\u001b[0;32m     39\u001b[0m         depth\u001b[38;5;241m=\u001b[39m\u001b[38;5;241m500\u001b[39m \u001b[38;5;241m*\u001b[39m mm,  \u001b[38;5;66;03m# type: ignore\u001b[39;00m\n\u001b[0;32m     40\u001b[0m     )\n\u001b[0;32m     42\u001b[0m     \u001b[38;5;28mprint\u001b[39m(\u001b[38;5;124mf\u001b[39m\u001b[38;5;124m\"\u001b[39m\u001b[38;5;124mNombre de la sección: \u001b[39m\u001b[38;5;132;01m{\u001b[39;00msection\u001b[38;5;241m.\u001b[39mget_name()\u001b[38;5;132;01m}\u001b[39;00m\u001b[38;5;124m\"\u001b[39m)\n",
      "\u001b[1;31mTypeError\u001b[0m: SteelBar.__init__() got an unexpected keyword argument 'f_y'"
     ]
    }
   ],
   "source": [
    "import sys\n",
    "import os\n",
    "# Añadir el directorio raíz al PYTHONPATH\n",
    "sys.path.append(os.path.abspath(os.path.join(os.getcwd(), '../../structurelab')))\n",
    "\n",
    "from structurelab.settings import Settings\n",
    "from structurelab.material import create_concrete, SteelBar\n",
    "from structurelab.section import Beam\n",
    "\n",
    "from pylatex import Command, Document, Math, Matrix, Section, Subsection, VectorName, NoEscape, Figure, LongTable\n",
    "from pylatex.utils import NoEscape\n",
    "import matplotlib\n",
    "matplotlib.use(\"Agg\")  # Not to use X server. For TravisCI.\n",
    "import matplotlib.pyplot as plt  # noq\n",
    "\n",
    "\n",
    "\n",
    "class MyDocument(Document):\n",
    "    def __init__(self, documentclass='article', document_options=['a4paper','spanish','10pt'], geometry_options={\"left\": \"20mm\",\"right\": \"20mm\"}):\n",
    "        # Pasar las opciones al constructor de la clase base Document\n",
    "        super().__init__(documentclass=documentclass, document_options=document_options, geometry_options=geometry_options)\n",
    "        self.preamble.append(Command(\"usepackage\",\"mathtools\"))\n",
    "        self.preamble.append(Command(\"title\", \"Viga rectangular a flexión - ACI 318-19\"))\n",
    "        self.preamble.append(Command(\"author\", \"StructureLab\"))\n",
    "        self.preamble.append(Command(\"date\", NoEscape(r\"\\today\")))\n",
    "        self.append(NoEscape(r\"\\maketitle\"))\n",
    "\n",
    "\n",
    "def main():\n",
    "    # Ejemplo de uso\n",
    "    concrete=create_concrete(name=\"H30\",f_c=30*MPa, design_code=\"ACI 318-19\") # type: ignore\n",
    "    steelBar=SteelBar(name=\"ADN 420\", f_y=420*MPa) # type: ignore\n",
    "    section = Beam(\n",
    "        name=\"V-40x50\",\n",
    "        concrete=concrete,\n",
    "        steelBar=steelBar,\n",
    "        width=400 * mm,  # type: ignore\n",
    "        depth=500 * mm,  # type: ignore\n",
    "    )\n",
    "\n",
    "    print(f\"Nombre de la sección: {section.get_name()}\")\n",
    "\n",
    "if __name__ == \"__main__\":\n",
    "    main()"
   ]
  }
 ],
 "metadata": {
  "kernelspec": {
   "display_name": "Python 3 (ipykernel)",
   "language": "python",
   "name": "python3"
  },
  "language_info": {
   "codemirror_mode": {
    "name": "ipython",
    "version": 3
   },
   "file_extension": ".py",
   "mimetype": "text/x-python",
   "name": "python",
   "nbconvert_exporter": "python",
   "pygments_lexer": "ipython3",
   "version": "3.11.5"
  }
 },
 "nbformat": 4,
 "nbformat_minor": 5
}
