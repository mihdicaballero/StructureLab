{
 "cells": [
  {
   "cell_type": "code",
   "execution_count": 1,
   "id": "03b0a911",
   "metadata": {},
   "outputs": [],
   "source": [
    "import forallpeople\n",
    "forallpeople.environment('Structural',top_level=True)\n",
    "#Useful extra units\n",
    "cm = 1e-2*m #type: ignore\n",
    "from IPython.display import Markdown, display\n",
    "import handcalcs.render"
   ]
  },
  {
   "cell_type": "markdown",
   "id": "36eda2c0",
   "metadata": {},
   "source": [
    "Calculations\n",
    "Let the force be represented as:\n",
    "$$F=ma$$\n",
    "Where:\n",
    "- $m$ is the mass in $\\text{kg}$\n",
    "- $a$ is the acceleration in $\\text{m/s}^2$"
   ]
  },
  {
   "cell_type": "code",
   "execution_count": 30,
   "id": "e9f0451e",
   "metadata": {},
   "outputs": [
    {
     "data": {
      "text/markdown": [
       "The result is: $F$=2.0 kN"
      ],
      "text/plain": [
       "<IPython.core.display.Markdown object>"
      ]
     },
     "metadata": {},
     "output_type": "display_data"
    },
    {
     "data": {
      "text/markdown": [
       "The result is: $I_x$=6042122 mm⁴"
      ],
      "text/plain": [
       "<IPython.core.display.Markdown object>"
      ]
     },
     "metadata": {},
     "output_type": "display_data"
    },
    {
     "data": {
      "text/markdown": [
       "The result is: $I_y$=2084212 mm⁴"
      ],
      "text/plain": [
       "<IPython.core.display.Markdown object>"
      ]
     },
     "metadata": {},
     "output_type": "display_data"
    },
    {
     "data": {
      "text/html": [
       "0.450 kip"
      ],
      "text/latex": [
       "$0.450\\ \\mathrm{kip}$"
      ],
      "text/markdown": [
       "0.450 kip"
      ],
      "text/plain": [
       "0.450 kip"
      ]
     },
     "execution_count": 30,
     "metadata": {},
     "output_type": "execute_result"
    }
   ],
   "source": [
    "# Example calculation\n",
    "mass=100*kg\n",
    "a = 9.81*m/s**2\n",
    "force = mass * a\n",
    "force=2*kN\n",
    "display(Markdown(f\"The result is: $F$={round(force,1)}\"))\n",
    "t = 3.75*mm #Espesor\n",
    "H = 200*mm #Altura\n",
    "B = 100*mm #Ancho\n",
    "I_x = B*H**3/12 - (B - t)*(H - t)**3/12\n",
    "I_y = H*B**3/12 - (H - t)*(B - t)**3/12\n",
    "display(Markdown(f\"The result is: $I_x$={round(I_x,0)}\"))\n",
    "display(Markdown(f\"The result is: $I_y$={round(I_y,0)}\"))\n",
    "# Cambio de unidad\n",
    "force.to(unit_name=\"kip\")\n"
   ]
  },
  {
   "cell_type": "code",
   "execution_count": 16,
   "id": "77ed9e50",
   "metadata": {},
   "outputs": [],
   "source": [
    "%%capture\n",
    "!jupyter nbconvert --to markdown --no-input report_example.ipynb"
   ]
  },
  {
   "cell_type": "code",
   "execution_count": 33,
   "id": "a1eaf5ed",
   "metadata": {},
   "outputs": [],
   "source": [
    "%%capture\n",
    "!jupyter nbconvert --no-input report_example.ipynb --to html"
   ]
  },
  {
   "cell_type": "code",
   "execution_count": 38,
   "id": "cae5197d",
   "metadata": {},
   "outputs": [],
   "source": [
    "%%capture\n",
    "!jupyter nbconvert --to html  --no-input report_example.ipynb"
   ]
  },
  {
   "cell_type": "code",
   "execution_count": null,
   "id": "6709a454",
   "metadata": {},
   "outputs": [],
   "source": [
    "%%render 2\n",
    "mass=100*kg\n",
    "a = 9.81*m/s**2\n",
    "force = mass * a"
   ]
  },
  {
   "cell_type": "code",
   "execution_count": null,
   "id": "47f66527",
   "metadata": {},
   "outputs": [],
   "source": [
    "%%render 2\n",
    "mass=100*kg\n",
    "a = (9.81*m/s**2)\n",
    "force = (mass * a)"
   ]
  },
  {
   "cell_type": "code",
   "execution_count": null,
   "id": "a2fad79d",
   "metadata": {},
   "outputs": [],
   "source": [
    "%%render params 2 \n",
    "mass=100*kg\n",
    "a = 9.81*m/s**2\n",
    "force = mass * a"
   ]
  },
  {
   "cell_type": "code",
   "execution_count": null,
   "id": "012d1342",
   "metadata": {},
   "outputs": [],
   "source": [
    "%%render symbolic\n",
    "mass=100*kg #Comment in line\n",
    "a = 9.81*m/s**2\n",
    "force = mass * a\n"
   ]
  },
  {
   "cell_type": "code",
   "execution_count": 35,
   "id": "c0720981",
   "metadata": {},
   "outputs": [
    {
     "data": {
      "text/latex": [
       "\\[\n",
       "\\begin{aligned}\n",
       "\\mathrm{force} &= 981.00\\ \\mathrm{N} \\;\n",
       "\\end{aligned}\n",
       "\\]"
      ],
      "text/plain": [
       "<IPython.core.display.Latex object>"
      ]
     },
     "metadata": {},
     "output_type": "display_data"
    }
   ],
   "source": [
    "%%render params 2\n",
    "force = mass * a"
   ]
  },
  {
   "cell_type": "code",
   "execution_count": 36,
   "id": "425a6389",
   "metadata": {},
   "outputs": [
    {
     "data": {
      "text/latex": [
       "\\[\n",
       "\\begin{aligned}\n",
       "t &= 3.75\\ \\mathrm{mm} \\; \\;\\textrm{(Espesor)}\n",
       " &H &= 200.00\\ \\mathrm{mm} \\; \\;\\textrm{(Altura)}\n",
       " &B &= 100.00\\ \\mathrm{mm} \\; \\;\\textrm{(Ancho)}\n",
       "\\\\[10pt]\n",
       "\\end{aligned}\n",
       "\\]"
      ],
      "text/plain": [
       "<IPython.core.display.Latex object>"
      ]
     },
     "metadata": {},
     "output_type": "display_data"
    }
   ],
   "source": [
    "%%render params 2\n",
    "#Tubo 200x100x3.75mm\n",
    "t = 3.75*mm #Espesor\n",
    "H = 200*mm #Altura\n",
    "B = 100*mm #Ancho"
   ]
  },
  {
   "cell_type": "code",
   "execution_count": 37,
   "id": "329554da",
   "metadata": {},
   "outputs": [
    {
     "data": {
      "text/latex": [
       "\\[\n",
       "\\begin{aligned}\n",
       "I_{x} &= B \\cdot \\frac{ \\left( H \\right) ^{ 3 } }{ 12 } - \\left( B - t \\right) \\cdot \\frac{ \\left( H - t \\right) ^{ 3 } }{ 12 } \\\\&= 100.000\\ \\mathrm{mm} \\cdot \\frac{ \\left( 200.000\\ \\mathrm{mm} \\right) ^{ 3 } }{ 12 } - \\left( 100.000\\ \\mathrm{mm} - 3.750\\ \\mathrm{mm} \\right) \\cdot \\frac{ \\left( 200.000\\ \\mathrm{mm} - 3.750\\ \\mathrm{mm} \\right) ^{ 3 } }{ 12 } \\\\&= 6042122.192\\ \\mathrm{mm}^{4}  \\\\[10pt]\n",
       "\\\\[10pt]\n",
       "I_{y} &= H \\cdot \\frac{ \\left( B \\right) ^{ 3 } }{ 12 } - \\left( H - t \\right) \\cdot \\frac{ \\left( B - t \\right) ^{ 3 } }{ 12 } \\\\&= 200.000\\ \\mathrm{mm} \\cdot \\frac{ \\left( 100.000\\ \\mathrm{mm} \\right) ^{ 3 } }{ 12 } - \\left( 200.000\\ \\mathrm{mm} - 3.750\\ \\mathrm{mm} \\right) \\cdot \\frac{ \\left( 100.000\\ \\mathrm{mm} - 3.750\\ \\mathrm{mm} \\right) ^{ 3 } }{ 12 } \\\\&= 2084212.036\\ \\mathrm{mm}^{4}  \\\\[10pt]\n",
       "\\end{aligned}\n",
       "\\]"
      ],
      "text/plain": [
       "<IPython.core.display.Latex object>"
      ]
     },
     "metadata": {},
     "output_type": "display_data"
    }
   ],
   "source": [
    "%%render\n",
    "I_x = B*H**3/12 - (B - t)*(H - t)**3/12\n",
    "I_y = H*B**3/12 - (H - t)*(B - t)**3/12"
   ]
  },
  {
   "cell_type": "code",
   "execution_count": 22,
   "id": "e6209c76",
   "metadata": {},
   "outputs": [],
   "source": [
    "import numpy as np\n",
    "\n",
    "from pylatex import Document, Math, Matrix, Section, Subsection, VectorName, NoEscape, Figure\n",
    "from pylatex.utils import NoEscape\n",
    "import matplotlib\n",
    "matplotlib.use(\"Agg\")  # Not to use X server. For TravisCI.\n",
    "import matplotlib.pyplot as plt  # noq\n",
    "\n",
    "if __name__ == \"__main__\":\n",
    "    \n",
    "    geometry_options = {\"right\": \"2cm\", \"left\": \"2cm\"}\n",
    "    doc = Document(\"pylatex_example\", geometry_options=geometry_options)\n",
    "    section = Section(\"Numpy tests\")\n",
    "    subsection = Subsection(\"Array\")\n",
    "\n",
    "    a = np.array([[100, 10, 20]]).T\n",
    "    vec = Matrix(a)\n",
    "    vec_name = VectorName(\"a\")\n",
    "    math = Math(data=[vec_name, \"=\", vec])\n",
    "\n",
    "    subsection.append(math)\n",
    "    section.append(subsection)\n",
    "\n",
    "    subsection = Subsection(\"Matrix\")\n",
    "    M = np.matrix([[2, 3, 4], [0, 0, 1], [0, 0, 2]])\n",
    "    matrix = Matrix(M, mtype=\"b\")\n",
    "    math = Math(data=[\"M=\", matrix])\n",
    "    math = Math(data=[force.value/1000,\" kN\"])\n",
    "\n",
    "    subsection.append(math)\n",
    "    section.append(subsection)\n",
    "\n",
    "    subsection = Subsection(\"Product\")\n",
    "\n",
    "    math = Math(data=[\"M\", vec_name, \"=\", Matrix(M * a)])\n",
    "    subsection.append(math)\n",
    "\n",
    "    section.append(subsection)\n",
    "\n",
    "    doc.append(section)\n",
    "\n",
    "    doc.append(\n",
    "        NoEscape(\n",
    "            r\"\"\"\n",
    "        The following is a demonstration of a custom \\LaTeX{}\n",
    "        command with a couple of parameters.\\\\\n",
    "        \"\"\"\n",
    "        )\n",
    "    )\n",
    "\n",
    "    x = [0, 1, 2, 3, 4, 5, 6]\n",
    "    y = [15, 2, 7, 1, 5, 6, 9]\n",
    "\n",
    "    plt.plot(x, y)\n",
    "\n",
    "    doc.append(\"Introduction.\")\n",
    "\n",
    "    with doc.create(Section(\"I am a section\")):\n",
    "        doc.append(\"Take a look at this beautiful plot:\")\n",
    "\n",
    "        with doc.create(Figure(position=\"h\")) as plot:\n",
    "            plot.add_plot(width=NoEscape(r\"1\\textwidth\"))\n",
    "            plot.add_caption(\"I am a caption.\")\n",
    "\n",
    "        doc.append(\"Created using matplotlib.\")\n",
    "\n",
    "    doc.append(\"Conclusion.\")\n",
    "\n",
    "    doc.generate_pdf(clean_tex=False)"
   ]
  }
 ],
 "metadata": {
  "kernelspec": {
   "display_name": "Python 3 (ipykernel)",
   "language": "python",
   "name": "python3"
  },
  "language_info": {
   "codemirror_mode": {
    "name": "ipython",
    "version": 3
   },
   "file_extension": ".py",
   "mimetype": "text/x-python",
   "name": "python",
   "nbconvert_exporter": "python",
   "pygments_lexer": "ipython3",
   "version": "3.11.5"
  }
 },
 "nbformat": 4,
 "nbformat_minor": 5
}
